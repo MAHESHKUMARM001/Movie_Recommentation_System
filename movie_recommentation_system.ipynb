import pandas as pd
import matplotlib.pyplot as plt
import seaborn as snssns.set_style('white')
 %matplotlib inline
column_names = ['user_id', 'item_id', 'rating', 'timestamp'] 
df1 = pd.read_csv("file.txt", sep="\t", header=None, names=column_names)
print(df1.head())

#PRINTING THE TOP 5  MOVIES IN DATA SET 
df=pd.read_csv("Movie_Id_Titles.csv") 
print(df.head())

#MERGING 
data = pd.merge(df1, df, on='item_id')
print(data.head())

#CALCULATE  MEAN RATING OF ALL MOVIES
print(data.groupby('title')['rating'].mean().sort_values(ascending=False).head())

#CALCULATE COUNT RATING OF ALL MOVIES
print(data.groupby('title')['rating'].count().sort_values(ascending=False).head())

# CREATING DATAFRAME WITH 'RATING' COUNT VALUES 
ratings = pd.DataFrame(data.groupby('title')['rating'].mean())
ratings['num of ratings'] = pd.DataFrame(data.groupby('title')['rating'].count()) ratings.head()

# PLOT GRAPH OF 'NUM OF RATINGS COLUMN' 
plt.figure(figsize =(10, 4))
ratings['num of ratings'].hist(bins = 70)

# PLOT GRAPH OF 'RATINGS' COLUMN 
plt.figure(figsize =(10, 4)) 
ratings['rating'].hist(bins = 70)

# SORTING VALUES ACCORDING TO 
# THE 'NUM OF RATING COLUMN' 
moviemat = data.pivot_table(index ='user_id',columns ='title', values ='rating') moviemat.head() 
ratings.sort_values('num of ratings', ascending = False).head(10)

# ANALYSING CORRELATION WITH SIMILAR MOVIES 
starwars_user_ratings = moviemat['Star Wars (1977)']
liarliar_user_ratings = moviemat['Liar Liar (1997)'] 
starwars_user_ratings.head()

# ANALYSING CORRELATION WITH SIMILAR MOVIES 
similar_to_starwars = moviemat.corrwith(starwars_user_ratings) 
similar_to_liarliar = moviemat.corrwith(liarliar_user_ratings) 
corr_starwars = pd.DataFrame(similar_to_starwars, columns =['Correlation']) 
corr_starwars.dropna(inplace = True) 
corr_starwars.head()

# SIMILAR MOVIES LIKE STARWARS
corr_starwars.sort_values('Correlation', ascending = False).head(10) 
corr_starwars = corr_starwars.join(ratings['num of ratings']) 
corr_starwars.head() 
corr_starwars[corr_starwars['num of ratings']>100].sort_values('Correlation', 
ascending = False).head()
